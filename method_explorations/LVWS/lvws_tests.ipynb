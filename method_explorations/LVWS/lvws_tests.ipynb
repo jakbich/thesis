{
 "cells": [
  {
   "cell_type": "code",
   "execution_count": 1,
   "metadata": {},
   "outputs": [],
   "source": [
    "import os\n",
    "import json\n",
    "import sys\n",
    "sys.path.append('../..')\n",
    "import matplotlib.pyplot as plt\n",
    "import numpy as np\n",
    "import ipywidgets as widgets\n",
    "from IPython.display import display, clear_output\n",
    "from visualizations.solution_visualization import plot_gantt_chart, plot_robot_trajectories\n",
    "from helper_functions.schedules import Full_Horizon_Schedule\n"
   ]
  },
  {
   "cell_type": "markdown",
   "metadata": {},
   "source": [
    "### Dataset of exact solutions of Full_Horizon_Schedules"
   ]
  },
  {
   "cell_type": "code",
   "execution_count": 2,
   "metadata": {},
   "outputs": [],
   "source": [
    "def load_dataset(problem_dir, solution_dir):\n",
    "    problems = []\n",
    "    solutions = []\n",
    "    \n",
    "    # Load all problem instances\n",
    "    for file_name in sorted(os.listdir(problem_dir)):\n",
    "        with open(os.path.join(problem_dir, file_name), \"r\") as f:\n",
    "            problems.append(json.load(f))\n",
    "    \n",
    "    # Load all solution files\n",
    "    for file_name in sorted(os.listdir(solution_dir)):\n",
    "        with open(os.path.join(solution_dir, file_name), \"r\") as f:\n",
    "            solutions.append(json.load(f))\n",
    "    \n",
    "    solutions = [Full_Horizon_Schedule.from_dict(solution) for solution in solutions]\n",
    "    \n",
    "    return problems, solutions"
   ]
  },
  {
   "cell_type": "code",
   "execution_count": 3,
   "metadata": {},
   "outputs": [],
   "source": [
    "# Define paths\n",
    "problem_dir = \"/home/jakob/thesis/datasets/simple_dataset_1000/problem_instances\"\n",
    "solution_dir = \"/home/jakob/thesis/datasets/simple_dataset_1000/solutions\"\n",
    "\n",
    "# Load dataset\n",
    "problems, solutions = load_dataset(problem_dir, solution_dir)"
   ]
  },
  {
   "cell_type": "code",
   "execution_count": 45,
   "metadata": {},
   "outputs": [
    {
     "data": {
      "application/vnd.jupyter.widget-view+json": {
       "model_id": "74b0d849ad8046eb8531b68b09d5e1af",
       "version_major": 2,
       "version_minor": 0
      },
      "text/plain": [
       "IntSlider(value=0, continuous_update=False, description='Solution:', max=999)"
      ]
     },
     "metadata": {},
     "output_type": "display_data"
    },
    {
     "data": {
      "image/png": "[encoded data removed]",
      "text/plain": [
       "<Figure size 1000x600 with 1 Axes>"
      ]
     },
     "metadata": {},
     "output_type": "display_data"
    },
    {
     "name": "stdout",
     "output_type": "stream",
     "text": [
      "Schedule:\n",
      "  Number of tasks: 4\n",
      "  Number of robots: 2\n",
      "  Makespan/Arrival at end location: 370.50\n",
      "  Robot Tasks:\n",
      "    Robot 0:\n",
      "      Task 1: 36.10 -> 121.10\n",
      "      Task 3: 179.40 -> 266.40\n",
      "      Task 2: 296.90 -> 324.90\n",
      "    Robot 1:\n",
      "      Task 1: 36.10 -> 121.10\n",
      "      Task 4: 193.40 -> 285.40\n",
      "\n",
      "[  0. 122. 267. 286. 325.]\n"
     ]
    }
   ],
   "source": [
    "def update_plot(change):\n",
    "    \"\"\"Update the Gantt chart when the slider value changes.\"\"\"\n",
    "    index = slider.value  # Get the current slider value\n",
    "    solution = solutions[index]\n",
    "    clear_output(wait=True)  # Clear previous output\n",
    "    display(slider)  # Re-display the slider\n",
    "    plot_gantt_chart(f\"Solution {index}\", solution)  # Plot the updated Gantt chart\n",
    "    print(f\"{solutions[index]}\")\n",
    "    print(find_decision_points(solutions[index]))\n",
    "\n",
    "# Create the slider\n",
    "slider = widgets.IntSlider(\n",
    "    value=0,  # Default starting index\n",
    "    min=0,    # Minimum index\n",
    "    max=len(solutions) - 1,  # Maximum index based on solutions size\n",
    "    step=1,   # Step size for the slider\n",
    "    description='Solution:',\n",
    "    continuous_update=False, # Update only when the slider is released\n",
    "    )\n",
    "\n",
    "# Attach the update function to the slider's change event\n",
    "slider.observe(update_plot, names='value')\n",
    "\n",
    "update_plot(None)  # Display the initial plot\n"
   ]
  },
  {
   "cell_type": "markdown",
   "metadata": {},
   "source": [
    "### Slice the dataset into instantaneous assignments for training"
   ]
  },
  {
   "cell_type": "code",
   "execution_count": 11,
   "metadata": {},
   "outputs": [
    {
     "data": {
      "text/plain": [
       "{0: [(1, 36.1, 121.1), (3, 179.4, 266.4), (2, 296.9, 324.9)],\n",
       " 1: [(1, 36.1, 121.1), (4, 193.4, 285.4)]}"
      ]
     },
     "execution_count": 11,
     "metadata": {},
     "output_type": "execute_result"
    }
   ],
   "source": [
    "solutions[0].robot_schedules"
   ]
  },
  {
   "cell_type": "code",
   "execution_count": 44,
   "metadata": {},
   "outputs": [],
   "source": [
    "def find_decision_points(solution):\n",
    "    end_time_index = 2\n",
    "    end_times_of_tasks = np.array([task[end_time_index] for tasks in solution.robot_schedules.values() for task in tasks])\n",
    "    decision_points = np.unique(end_times_of_tasks)\n",
    "\n",
    "    # Also beginning of mission is decsision point --> append 0\n",
    "    return np.ceil(np.append([0],decision_points))"
   ]
  },
  {
   "cell_type": "markdown",
   "metadata": {},
   "source": [
    "### Extract expert rewards at decision points"
   ]
  },
  {
   "cell_type": "code",
   "execution_count": 63,
   "metadata": {},
   "outputs": [],
   "source": [
    "def extract_expert_reward(schedule, decision_time, gamma = 0.99):\n",
    "    \"\"\"\n",
    "    schedule: dict {robot_id: [(task_id, start_time, end_time), ...]}\n",
    "    decision_time: float\n",
    "    gamma: float discount factor\n",
    "    Returns:\n",
    "      E: Expert reward matrix[n_robots, n_tasks]\n",
    "      X: Feasibility mask  [n_robots, n_tasks]\n",
    "    Assumptions:\n",
    "      - For now no precedence constraints --> tasks are ready or completed \n",
    "      - Task completion can be inferred from the intervals\n",
    "      - Robots are identified by keys in `schedule`\n",
    "      - Tasks are the unique set of all task_ids in all intervals\n",
    "    \"\"\"\n",
    "\n",
    "\n",
    "    n_robots = len(schedule)\n",
    "    task_ids = sorted({t_id for r_id in schedule for (t_id, _, _) in schedule[r_id]})\n",
    "\n",
    "\n",
    "    E = np.zeros((n_robots, len(task_ids))) \n",
    "    X = np.zeros((n_robots, len(task_ids)))\n",
    "\n",
    "\n",
    "    def is_idle(robot_id, time):\n",
    "        for t_id, task_start, task_end in schedule[robot_id]:\n",
    "            if task_start <= time <= task_end:\n",
    "                return False\n",
    "        return True\n",
    "\n",
    "\n",
    "    for robot_id in schedule.keys():\n",
    "        if is_idle(robot_id, decision_time):\n",
    "            # Robot task pair is feasible at decision time \n",
    "            X[robot_id, :] = 1\n",
    "\n",
    "        for task_id, start_time, end_time in schedule[robot_id]:\n",
    "            # Task is completed at end_time\n",
    "            if start_time >= decision_time:\n",
    "                # Expert reward is discounted time to completion (task_id-1, because task 0 is the beginning of the mission)\n",
    "                E[robot_id, task_id-1] = gamma**(end_time - decision_time)\n",
    "                \n",
    "\n",
    "    return E, X "
   ]
  },
  {
   "cell_type": "code",
   "execution_count": 70,
   "metadata": {},
   "outputs": [
    {
     "data": {
      "text/plain": [
       "(array([[0.        , 0.57593329, 0.        , 0.        ],\n",
       "        [0.        , 0.        , 0.        , 0.        ]]),\n",
       " array([[1., 1., 1., 1.],\n",
       "        [0., 0., 0., 0.]]))"
      ]
     },
     "execution_count": 70,
     "metadata": {},
     "output_type": "execute_result"
    }
   ],
   "source": [
    "extract_expert_reward(solutions[0].robot_schedules, decision_time=270)"
   ]
  },
  {
   "cell_type": "markdown",
   "metadata": {},
   "source": [
    "### Extract task/robot status at decision points"
   ]
  },
  {
   "cell_type": "markdown",
   "metadata": {},
   "source": [
    "### Initial Transformer only approach\n",
    "Transformer on robots + tasks --> reward matrix, Bipartite Graph Matching --> Instantaneous schedule --> Roll out in simulator\n"
   ]
  },
  {
   "cell_type": "code",
   "execution_count": 5,
   "metadata": {},
   "outputs": [],
   "source": [
    "import torch\n",
    "import torch.nn as nn\n",
    "import torch.nn.functional as F\n",
    "\n",
    "class SingleHeadTransformerBlock(nn.Module):\n",
    "    def __init__(self, embed_dim, ff_dim, dropout=0.0):\n",
    "        \"\"\"\n",
    "        Initializes a Transformer Block with a single-head attention mechanism.\n",
    "\n",
    "        Args:\n",
    "            embed_dim (int): Size of input embeddings.\n",
    "            ff_dim (int): Size of the feed-forward layer.\n",
    "            dropout (float): Dropout rate.\n",
    "        \"\"\"\n",
    "        super(SingleHeadTransformerBlock, self).__init__()\n",
    "        self.embed_dim = embed_dim\n",
    "\n",
    "        # Linear layers for Q, K, V\n",
    "        self.query_proj = nn.Linear(embed_dim, embed_dim)\n",
    "        self.key_proj = nn.Linear(embed_dim, embed_dim)\n",
    "        self.value_proj = nn.Linear(embed_dim, embed_dim)\n",
    "\n",
    "        # Output projection after attention\n",
    "        self.out_proj = nn.Linear(embed_dim, embed_dim)\n",
    "\n",
    "        # Feed-forward network\n",
    "        self.ffn = nn.Sequential(\n",
    "            nn.Linear(embed_dim, ff_dim),\n",
    "            nn.ReLU(),\n",
    "            nn.Linear(ff_dim, embed_dim)\n",
    "        )\n",
    "\n",
    "        # Layer normalizations\n",
    "        self.norm1 = nn.LayerNorm(embed_dim)\n",
    "        self.norm2 = nn.LayerNorm(embed_dim)\n",
    "\n",
    "        # Dropout\n",
    "        self.dropout = nn.Dropout(dropout)\n",
    "\n",
    "    def attention(self, Q, K, V, mask=None):\n",
    "        \"\"\"\n",
    "        Compute the scaled dot-product attention.\n",
    "\n",
    "        Args:\n",
    "            Q (torch.Tensor): Query tensor of shape (batch_size, seq_len, embed_dim).\n",
    "            K (torch.Tensor): Key tensor of shape (batch_size, seq_len, embed_dim).\n",
    "            V (torch.Tensor): Value tensor of shape (batch_size, seq_len, embed_dim).\n",
    "            mask (torch.Tensor, optional): Attention mask of shape (batch_size, seq_len, seq_len).\n",
    "\n",
    "        Returns:\n",
    "            torch.Tensor: Attention output of shape (batch_size, seq_len, embed_dim).\n",
    "        \"\"\"\n",
    "        scores = torch.matmul(Q, K.transpose(-2, -1)) / (self.embed_dim ** 0.5)  # (batch_size, seq_len, seq_len)\n",
    "\n",
    "        # Apply mask if provided\n",
    "        if mask is not None:\n",
    "            scores = scores.masked_fill(mask == 0, float('-inf'))\n",
    "\n",
    "        attention_weights = F.softmax(scores, dim=-1)  # (batch_size, seq_len, seq_len)\n",
    "\n",
    "        return torch.matmul(attention_weights, V)  # (batch_size, seq_len, embed_dim)\n",
    "\n",
    "\n",
    "    def forward(self, x, mask=None):\n",
    "        \"\"\"\n",
    "        Forward pass of the Transformer Block.\n",
    "\n",
    "        Args:\n",
    "            x (torch.Tensor): Input tensor of shape (batch_size, seq_len, embed_dim).\n",
    "            mask (torch.Tensor, optional): Attention mask of shape (batch_size, seq_len, seq_len).\n",
    "\n",
    "        Returns:\n",
    "            torch.Tensor: Output tensor of shape (batch_size, seq_len, embed_dim).\n",
    "        \"\"\"\n",
    "        # Attention\n",
    "        Q = self.query_proj(x)  # (batch_size, seq_len, embed_dim)\n",
    "        K = self.key_proj(x)    # (batch_size, seq_len, embed_dim)\n",
    "        V = self.value_proj(x)  # (batch_size, seq_len, embed_dim)\n",
    "\n",
    "        attention_output = self.attention(Q, K, V, mask)  # (batch_size, seq_len, embed_dim)\n",
    "        attention_output = self.out_proj(attention_output)\n",
    "\n",
    "        x = x + self.dropout(attention_output)\n",
    "        x = self.norm1(x)\n",
    "\n",
    "        # Feed-forward\n",
    "        ffn_output = self.ffn(x)\n",
    "        x = x + self.dropout(ffn_output)\n",
    "        x = self.norm2(x)\n",
    "\n",
    "        return x\n",
    "\n"
   ]
  },
  {
   "cell_type": "code",
   "execution_count": 6,
   "metadata": {},
   "outputs": [],
   "source": [
    "class TransformerScheduler(nn.Module):\n",
    "    def __init__(self, robot_input_dimensions, task_input_dimension, embed_dim, ff_dim, num_layers, dropout = 0.0):\n",
    "        \n",
    "        super(TransformerScheduler, self).__init__()\n",
    "        self.robot_embedding = nn.Linear(robot_input_dimensions, embed_dim)\n",
    "        self.task_embedding = nn.Linear(task_input_dimension, embed_dim)\n",
    "\n",
    "        self.transformer_blocks = nn.ModuleList([\n",
    "            SingleHeadTransformerBlock(embed_dim, ff_dim, dropout) for _ in range(num_layers)\n",
    "        ])\n",
    "\n",
    "    def forward(self, robot_features, task_features):\n",
    "        robot_embeddings = self.robot_embedding(robot_features)\n",
    "        task_embeddings = self.task_embedding(task_features)\n",
    "\n",
    "        x = torch.cat([robot_embeddings, task_embeddings], dim=1)\n",
    "\n",
    "        for transformer in self.transformer_blocks:\n",
    "            x = transformer(x)\n",
    "\n",
    "        n_robots = robot_features.shape[1] \n",
    "\n",
    "        features_per_robot = x[:, :n_robots]\n",
    "        features_per_task = x[:, n_robots:]\n",
    "        reward_matrix = torch.matmul(features_per_robot, features_per_task.transpose(1,2))\n",
    "        \n",
    "        return reward_matrix "
   ]
  },
  {
   "cell_type": "code",
   "execution_count": 7,
   "metadata": {},
   "outputs": [],
   "source": [
    "class Robot:\n",
    "    def __init__(self, capabilities):\n",
    "        self.capability = np.array(capabilities)  \n",
    "        self.available = 1  # 0 if not available, 1 if available\n",
    "\n",
    "    def feature_vector(self):\n",
    "        return np.concatenate([self.capability, np.array([self.available])])\n",
    "\n",
    "\n",
    "class Task:\n",
    "    def __init__(self, skills_required):\n",
    "        self.skills_required = np.array(skills_required)  \n",
    "        self.ready = 1 # 0 if not ready, 1 if ready --> predecessor tasks are finished\n",
    "        self.assigned = 0 # 0 if not assigned, 1 if assigned\n",
    "        self.incomplete = 1 # 0 if completed, 1 if incomplete  \n",
    "\n",
    "    def feature_vector(self):\n",
    "        return np.concatenate([self.skills_required, np.array([self.ready, self.assigned, self.incomplete])])"
   ]
  },
  {
   "cell_type": "code",
   "execution_count": 8,
   "metadata": {},
   "outputs": [],
   "source": [
    "n_robots = 2\n",
    "n_tasks = 3\n",
    "n_skills = 2 \n"
   ]
  },
  {
   "cell_type": "code",
   "execution_count": 16,
   "metadata": {},
   "outputs": [
    {
     "name": "stdout",
     "output_type": "stream",
     "text": [
      "tensor([[[1., 0., 1.],\n",
      "         [0., 1., 1.]]])\n",
      "tensor([[[1., 1., 1., 0., 1.],\n",
      "         [0., 1., 1., 0., 1.],\n",
      "         [1., 1., 1., 0., 1.]]])\n"
     ]
    }
   ],
   "source": [
    "robots = [Robot([1, 0]), Robot([0, 1])]\n",
    "tasks = [Task([1, 1]), Task([0, 1]), Task([1, 1])]\n",
    "\n",
    "robot_features = np.stack([robot.feature_vector() for robot in robots])\n",
    "robot_features = torch.tensor(robot_features).unsqueeze(0).float()\n",
    "\n",
    "task_features = np.stack([task.feature_vector() for task in tasks])\n",
    "task_features = torch.tensor(task_features).unsqueeze(0).float()\n",
    "\n",
    "\n",
    "print(robot_features)\n",
    "print(task_features)"
   ]
  },
  {
   "cell_type": "code",
   "execution_count": 17,
   "metadata": {},
   "outputs": [],
   "source": [
    "# Example input\n",
    "batch_size = 1 \n",
    "seq_len = n_robots + n_tasks\n",
    "\n",
    "scheduling_network = TransformerScheduler(robot_input_dimensions=3, task_input_dimension=5, embed_dim=32, ff_dim=64, num_layers=2)"
   ]
  },
  {
   "cell_type": "code",
   "execution_count": 18,
   "metadata": {},
   "outputs": [
    {
     "data": {
      "text/plain": [
       "tensor([[[-5.4687, -1.3713, -5.4687],\n",
       "         [-6.1998, -3.5722, -6.1998]]], grad_fn=<UnsafeViewBackward0>)"
      ]
     },
     "execution_count": 18,
     "metadata": {},
     "output_type": "execute_result"
    }
   ],
   "source": [
    "reward_matrix = scheduling_network(robot_features, task_features)\n",
    "reward_matrix"
   ]
  }
 ],
 "metadata": {
  "kernelspec": {
   "display_name": ".venv",
   "language": "python",
   "name": "python3"
  },
  "language_info": {
   "codemirror_mode": {
    "name": "ipython",
    "version": 3
   },
   "file_extension": ".py",
   "mimetype": "text/x-python",
   "name": "python",
   "nbconvert_exporter": "python",
   "pygments_lexer": "ipython3",
   "version": "3.11.10"
  }
 },
 "nbformat": 4,
 "nbformat_minor": 2
}
