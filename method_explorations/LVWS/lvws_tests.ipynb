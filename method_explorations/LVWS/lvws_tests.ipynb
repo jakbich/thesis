{
 "cells": [
  {
   "cell_type": "code",
   "execution_count": 5,
   "metadata": {},
   "outputs": [],
   "source": [
    "import os\n",
    "import json\n",
    "import sys\n",
    "sys.path.append('../..')\n",
    "import matplotlib.pyplot as plt\n",
    "import numpy as np\n",
    "import ipywidgets as widgets\n",
    "from IPython.display import display, clear_output\n",
    "\n",
    "from helper_functions.schedules import Full_Horizon_Schedule\n",
    "from schedulers.bigraph_matching import solve_bipartite_matching\n",
    "from simulation_environment.simulator_2D import Simulation\n",
    "from training_helpers import create_task_features, create_robot_features, get_expert_reward\n",
    "from transformer_models import TransformerScheduler\n",
    "from visualizations.solution_visualization import plot_gantt_chart, plot_robot_trajectories"
   ]
  },
  {
   "cell_type": "markdown",
   "metadata": {},
   "source": [
    "### Dataset of exact solutions of Full_Horizon_Schedules"
   ]
  },
  {
   "cell_type": "code",
   "execution_count": 6,
   "metadata": {},
   "outputs": [],
   "source": [
    "def load_dataset(problem_dir, solution_dir):\n",
    "    problems = []\n",
    "    solutions = []\n",
    "    \n",
    "    # Load all problem instances\n",
    "    for file_name in sorted(os.listdir(problem_dir)):\n",
    "        with open(os.path.join(problem_dir, file_name), \"r\") as f:\n",
    "            problems.append(json.load(f))\n",
    "    \n",
    "    # Load all solution files\n",
    "    for file_name in sorted(os.listdir(solution_dir)):\n",
    "        with open(os.path.join(solution_dir, file_name), \"r\") as f:\n",
    "            solutions.append(json.load(f))\n",
    "    \n",
    "    solutions = [Full_Horizon_Schedule.from_dict(solution) for solution in solutions]\n",
    "    \n",
    "    return problems, solutions"
   ]
  },
  {
   "cell_type": "code",
   "execution_count": 7,
   "metadata": {},
   "outputs": [],
   "source": [
    "# Define paths\n",
    "problem_dir = \"/home/jakob/thesis/datasets/simple_dataset_1000/problem_instances\"\n",
    "solution_dir = \"/home/jakob/thesis/datasets/simple_dataset_1000/solutions\"\n",
    "\n",
    "# Load dataset\n",
    "problems, solutions = load_dataset(problem_dir, solution_dir)"
   ]
  },
  {
   "cell_type": "code",
   "execution_count": 8,
   "metadata": {},
   "outputs": [],
   "source": [
    "def find_decision_points(solution):\n",
    "    end_time_index = 2\n",
    "    end_times_of_tasks = np.array([task[end_time_index] for tasks in solution.robot_schedules.values() for task in tasks])\n",
    "    decision_points = np.unique(end_times_of_tasks)\n",
    "\n",
    "    # Also beginning of mission is decsision point --> append 0\n",
    "    return np.ceil(np.append([0],decision_points))"
   ]
  },
  {
   "cell_type": "code",
   "execution_count": 9,
   "metadata": {},
   "outputs": [
    {
     "data": {
      "application/vnd.jupyter.widget-view+json": {
       "model_id": "efb7d136b7744fbdbf05e66cfca8e460",
       "version_major": 2,
       "version_minor": 0
      },
      "text/plain": [
       "IntSlider(value=500, continuous_update=False, description='Solution:', max=999)"
      ]
     },
     "metadata": {},
     "output_type": "display_data"
    },
    {
     "data": {
      "image/png": "[encoded data removed]",
      "text/plain": [
       "<Figure size 1000x600 with 1 Axes>"
      ]
     },
     "metadata": {},
     "output_type": "display_data"
    },
    {
     "name": "stdout",
     "output_type": "stream",
     "text": [
      "Schedule:\n",
      "  Number of tasks: 4\n",
      "  Number of robots: 2\n",
      "  Makespan/Arrival at end location: 454.00\n",
      "  Robot Tasks:\n",
      "    Robot 0:\n",
      "      Task 2: 59.10 -> 149.10\n",
      "      Task 4: 189.50 -> 281.50\n",
      "      Task 1: 331.00 -> 396.00\n",
      "    Robot 1:\n",
      "      Task 3: 51.20 -> 63.20\n",
      "      Task 1: 331.00 -> 396.00\n",
      "\n",
      "[  0.  64. 150. 282. 396.]\n"
     ]
    }
   ],
   "source": [
    "def update_plot(change):\n",
    "    \"\"\"Update the Gantt chart when the slider value changes.\"\"\"\n",
    "    index = slider.value  # Get the current slider value\n",
    "    solution = solutions[index]\n",
    "    clear_output(wait=True)  # Clear previous output\n",
    "    display(slider)  # Re-display the slider\n",
    "    plot_gantt_chart(f\"Solution {index}\", solution)  # Plot the updated Gantt chart\n",
    "    print(f\"{solutions[index]}\")\n",
    "    print(find_decision_points(solutions[index]))\n",
    "\n",
    "# Create the slider\n",
    "slider = widgets.IntSlider(\n",
    "    value=0,  # Default starting index\n",
    "    min=0,    # Minimum index\n",
    "    max=len(solutions) - 1,  # Maximum index based on solutions size\n",
    "    step=1,   # Step size for the slider\n",
    "    description='Solution:',\n",
    "    continuous_update=False, # Update only when the slider is released\n",
    "    )\n",
    "\n",
    "# Attach the update function to the slider's change event\n",
    "slider.observe(update_plot, names='value')\n",
    "\n",
    "update_plot(None)  # Display the initial plot\n"
   ]
  },
  {
   "cell_type": "markdown",
   "metadata": {},
   "source": [
    "### Extract expert rewards at decision points"
   ]
  },
  {
   "cell_type": "code",
   "execution_count": 23,
   "metadata": {},
   "outputs": [],
   "source": []
  },
  {
   "cell_type": "code",
   "execution_count": 10,
   "metadata": {},
   "outputs": [
    {
     "name": "stdout",
     "output_type": "stream",
     "text": [
      "At decision time 0.0:\n",
      "solver status: Optimal\n",
      "bipartite matching done with makespan 0.7533034312455678 and solution {(0, 0): 0, (0, 1): 1, (0, 2): 0, (0, 3): 0, (1, 0): 0, (1, 1): 0, (1, 2): 1, (1, 3): 0}\n",
      "robot assignments: {0: 1, 1: 2}\n",
      "\n",
      "\n",
      "\n",
      "At decision time 64.0:\n",
      "solver status: Optimal\n",
      "bipartite matching done with makespan 0.11237114987975103 and solution {(0, 0): 0, (0, 1): 0, (0, 2): 0, (0, 3): 1, (1, 0): 0, (1, 1): 0, (1, 2): 0, (1, 3): 0}\n",
      "robot assignments: {0: 3}\n",
      "\n",
      "\n",
      "\n",
      "At decision time 150.0:\n",
      "solver status: Optimal\n",
      "bipartite matching done with makespan 0.2667031158899642 and solution {(0, 0): 0, (0, 1): 0, (0, 2): 0, (0, 3): 1, (1, 0): 0, (1, 1): 0, (1, 2): 0, (1, 3): 0}\n",
      "robot assignments: {0: 3}\n",
      "\n",
      "\n",
      "\n",
      "At decision time 282.0:\n",
      "solver status: Optimal\n",
      "bipartite matching done with makespan 0.635978127638287 and solution {(0, 0): 1, (0, 1): 0, (0, 2): 0, (0, 3): 0, (1, 0): 1, (1, 1): 0, (1, 2): 0, (1, 3): 0}\n",
      "robot assignments: {0: 0, 1: 0}\n",
      "\n",
      "\n",
      "\n",
      "At decision time 396.0:\n",
      "solver status: Optimal\n",
      "bipartite matching done with makespan None and solution {(0, 0): 0, (0, 1): 0, (0, 2): 0, (0, 3): 0, (1, 0): 0, (1, 1): 0, (1, 2): 0, (1, 3): 0}\n",
      "robot assignments: {}\n",
      "\n",
      "\n",
      "\n"
     ]
    }
   ],
   "source": [
    "index = 500\n",
    "solution = solutions[index]\n",
    "problem = problems[index]\n",
    "decision_points = find_decision_points(solution)\n",
    "\n",
    "sim = Simulation(problem, precedence_constraints=[])\n",
    "sim.tasks = sim.tasks[1:-1] # Exclude start and end task\n",
    "for decision_time in decision_points:\n",
    "    E, X = get_expert_reward(solution.robot_schedules, decision_time=decision_time)\n",
    "    \n",
    "    print(f\"At decision time {decision_time}:\")\n",
    "    solve_bipartite_matching(E, sim)\n",
    "    print(\"\\n\\n\")\n"
   ]
  },
  {
   "cell_type": "markdown",
   "metadata": {},
   "source": [
    "### Extract task and robot features for decision point"
   ]
  },
  {
   "cell_type": "code",
   "execution_count": 15,
   "metadata": {},
   "outputs": [
    {
     "name": "stderr",
     "output_type": "stream",
     "text": [
      "/home/jakob/thesis/method_explorations/LVWS/training_helpers.py:52: UserWarning: Creating a tensor from a list of numpy.ndarrays is extremely slow. Please consider converting the list to a single numpy.ndarray with numpy.array() before converting to a tensor. (Triggered internally at ../torch/csrc/utils/tensor_new.cpp:278.)\n",
      "  return torch.tensor(task_features, dtype=torch.float32).unsqueeze(0)\n"
     ]
    }
   ],
   "source": [
    "task_features = create_task_features(problem, solution.robot_schedules, 350)"
   ]
  },
  {
   "cell_type": "code",
   "execution_count": 16,
   "metadata": {},
   "outputs": [],
   "source": [
    "robot_features = create_robot_features(problem, solution.robot_schedules, 350)"
   ]
  },
  {
   "cell_type": "code",
   "execution_count": 37,
   "metadata": {},
   "outputs": [],
   "source": [
    "# Example input\n",
    "batch_size = 1 \n",
    "\n",
    "scheduling_network = TransformerScheduler(robot_input_dimensions=3, task_input_dimension=5, embed_dim=32, ff_dim=64, num_layers=2)"
   ]
  },
  {
   "cell_type": "code",
   "execution_count": null,
   "metadata": {},
   "outputs": [],
   "source": [
    "reward_matrix = scheduling_network(robot_features, task_features)\n",
    "reward_matrix"
   ]
  },
  {
   "cell_type": "code",
   "execution_count": null,
   "metadata": {},
   "outputs": [],
   "source": []
  }
 ],
 "metadata": {
  "kernelspec": {
   "display_name": ".venv",
   "language": "python",
   "name": "python3"
  },
  "language_info": {
   "codemirror_mode": {
    "name": "ipython",
    "version": 3
   },
   "file_extension": ".py",
   "mimetype": "text/x-python",
   "name": "python",
   "nbconvert_exporter": "python",
   "pygments_lexer": "ipython3",
   "version": "3.11.10"
  }
 },
 "nbformat": 4,
 "nbformat_minor": 2
}
