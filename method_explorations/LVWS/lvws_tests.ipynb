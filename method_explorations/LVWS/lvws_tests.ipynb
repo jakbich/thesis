{
 "cells": [
  {
   "cell_type": "code",
   "execution_count": 1,
   "metadata": {},
   "outputs": [],
   "source": [
    "import os\n",
    "import json\n",
    "import sys\n",
    "sys.path.append('../..')\n",
    "import matplotlib.pyplot as plt\n",
    "import numpy as np\n",
    "import ipywidgets as widgets\n",
    "from IPython.display import display, clear_output\n",
    "from visualizations.solution_visualization import plot_gantt_chart, plot_robot_trajectories\n",
    "from helper_functions.schedules import Full_Horizon_Schedule\n"
   ]
  },
  {
   "cell_type": "markdown",
   "metadata": {},
   "source": [
    "### Dataset of exact solutions of Full_Horizon_Schedules"
   ]
  },
  {
   "cell_type": "code",
   "execution_count": 2,
   "metadata": {},
   "outputs": [],
   "source": [
    "def load_dataset(problem_dir, solution_dir):\n",
    "    problems = []\n",
    "    solutions = []\n",
    "    \n",
    "    # Load all problem instances\n",
    "    for file_name in sorted(os.listdir(problem_dir)):\n",
    "        with open(os.path.join(problem_dir, file_name), \"r\") as f:\n",
    "            problems.append(json.load(f))\n",
    "    \n",
    "    # Load all solution files\n",
    "    for file_name in sorted(os.listdir(solution_dir)):\n",
    "        with open(os.path.join(solution_dir, file_name), \"r\") as f:\n",
    "            solutions.append(json.load(f))\n",
    "    \n",
    "    solutions = [Full_Horizon_Schedule.from_dict(solution) for solution in solutions]\n",
    "    \n",
    "    return problems, solutions"
   ]
  },
  {
   "cell_type": "code",
   "execution_count": 3,
   "metadata": {},
   "outputs": [],
   "source": [
    "# Define paths\n",
    "problem_dir = \"/home/jakob/thesis/datasets/simple_dataset_1000/problem_instances\"\n",
    "solution_dir = \"/home/jakob/thesis/datasets/simple_dataset_1000/solutions\"\n",
    "\n",
    "# Load dataset\n",
    "problems, solutions = load_dataset(problem_dir, solution_dir)"
   ]
  },
  {
   "cell_type": "code",
   "execution_count": 4,
   "metadata": {},
   "outputs": [
    {
     "data": {
      "application/vnd.jupyter.widget-view+json": {
       "model_id": "2e91e1cb236147feb5945a0283e791bc",
       "version_major": 2,
       "version_minor": 0
      },
      "text/plain": [
       "IntSlider(value=3, continuous_update=False, description='Solution:', max=999)"
      ]
     },
     "metadata": {},
     "output_type": "display_data"
    },
    {
     "data": {
      "image/png": "[encoded data removed]",
      "text/plain": [
       "<Figure size 1000x600 with 1 Axes>"
      ]
     },
     "metadata": {},
     "output_type": "display_data"
    }
   ],
   "source": [
    "def update_plot(change):\n",
    "    \"\"\"Update the Gantt chart when the slider value changes.\"\"\"\n",
    "    index = slider.value  # Get the current slider value\n",
    "    solution = solutions[index]\n",
    "    clear_output(wait=True)  # Clear previous output\n",
    "    display(slider)  # Re-display the slider\n",
    "    plot_gantt_chart(f\"Solution {index}\", solution)  # Plot the updated Gantt chart\n",
    "\n",
    "# Create the slider\n",
    "slider = widgets.IntSlider(\n",
    "    value=0,  # Default starting index\n",
    "    min=0,    # Minimum index\n",
    "    max=len(solutions) - 1,  # Maximum index based on solutions size\n",
    "    step=1,   # Step size for the slider\n",
    "    description='Solution:',\n",
    "    continuous_update=False  # Update only when the slider is released\n",
    ")\n",
    "\n",
    "# Attach the update function to the slider's change event\n",
    "slider.observe(update_plot, names='value')\n",
    "\n",
    "update_plot(None)  # Display the initial plot\n"
   ]
  },
  {
   "cell_type": "markdown",
   "metadata": {},
   "source": [
    "### Initial Transformer only approach\n",
    "Transformer on robots + tasks --> reward matrix, Bipartite Graph Matching --> Instantaneous schedule --> Roll out in simulator\n"
   ]
  },
  {
   "cell_type": "code",
   "execution_count": 7,
   "metadata": {},
   "outputs": [],
   "source": [
    "import torch\n",
    "import torch.nn as nn\n",
    "import torch.nn.functional as F\n",
    "\n",
    "class SingleHeadTransformerBlock(nn.Module):\n",
    "    def __init__(self, embed_dim, ff_dim, dropout=0.0):\n",
    "        \"\"\"\n",
    "        Initializes a Transformer Block with a single-head attention mechanism.\n",
    "\n",
    "        Args:\n",
    "            embed_dim (int): Size of input embeddings.\n",
    "            ff_dim (int): Size of the feed-forward layer.\n",
    "            dropout (float): Dropout rate.\n",
    "        \"\"\"\n",
    "        super(SingleHeadTransformerBlock, self).__init__()\n",
    "        self.embed_dim = embed_dim\n",
    "\n",
    "        # Linear layers for Q, K, V\n",
    "        self.query_proj = nn.Linear(embed_dim, embed_dim)\n",
    "        self.key_proj = nn.Linear(embed_dim, embed_dim)\n",
    "        self.value_proj = nn.Linear(embed_dim, embed_dim)\n",
    "\n",
    "        # Output projection after attention\n",
    "        self.out_proj = nn.Linear(embed_dim, embed_dim)\n",
    "\n",
    "        # Feed-forward network\n",
    "        self.ffn = nn.Sequential(\n",
    "            nn.Linear(embed_dim, ff_dim),\n",
    "            nn.ReLU(),\n",
    "            nn.Linear(ff_dim, embed_dim)\n",
    "        )\n",
    "\n",
    "        # Layer normalizations\n",
    "        self.norm1 = nn.LayerNorm(embed_dim)\n",
    "        self.norm2 = nn.LayerNorm(embed_dim)\n",
    "\n",
    "        # Dropout\n",
    "        self.dropout = nn.Dropout(dropout)\n",
    "\n",
    "    def attention(self, Q, K, V, mask=None):\n",
    "        \"\"\"\n",
    "        Compute the scaled dot-product attention.\n",
    "\n",
    "        Args:\n",
    "            Q (torch.Tensor): Query tensor of shape (batch_size, seq_len, embed_dim).\n",
    "            K (torch.Tensor): Key tensor of shape (batch_size, seq_len, embed_dim).\n",
    "            V (torch.Tensor): Value tensor of shape (batch_size, seq_len, embed_dim).\n",
    "            mask (torch.Tensor, optional): Attention mask of shape (batch_size, seq_len, seq_len).\n",
    "\n",
    "        Returns:\n",
    "            torch.Tensor: Attention output of shape (batch_size, seq_len, embed_dim).\n",
    "        \"\"\"\n",
    "        scores = torch.matmul(Q, K.transpose(-2, -1)) / (self.embed_dim ** 0.5)  # (batch_size, seq_len, seq_len)\n",
    "\n",
    "        # Apply mask if provided\n",
    "        if mask is not None:\n",
    "            scores = scores.masked_fill(mask == 0, float('-inf'))\n",
    "\n",
    "        attention_weights = F.softmax(scores, dim=-1)  # (batch_size, seq_len, seq_len)\n",
    "\n",
    "        return torch.matmul(attention_weights, V)  # (batch_size, seq_len, embed_dim)\n",
    "\n",
    "    def forward(self, x, mask=None):\n",
    "        \"\"\"\n",
    "        Forward pass of the Transformer Block.\n",
    "\n",
    "        Args:\n",
    "            x (torch.Tensor): Input tensor of shape (batch_size, seq_len, embed_dim).\n",
    "            mask (torch.Tensor, optional): Attention mask of shape (batch_size, seq_len, seq_len).\n",
    "\n",
    "        Returns:\n",
    "            torch.Tensor: Output tensor of shape (batch_size, seq_len, embed_dim).\n",
    "        \"\"\"\n",
    "        # Attention\n",
    "        Q = self.query_proj(x)  # (batch_size, seq_len, embed_dim)\n",
    "        K = self.key_proj(x)    # (batch_size, seq_len, embed_dim)\n",
    "        V = self.value_proj(x)  # (batch_size, seq_len, embed_dim)\n",
    "\n",
    "        attention_output = self.attention(Q, K, V, mask)  # (batch_size, seq_len, embed_dim)\n",
    "        attention_output = self.out_proj(attention_output)\n",
    "\n",
    "        x = x + self.dropout(attention_output)\n",
    "        x = self.norm1(x)\n",
    "\n",
    "        # Feed-forward\n",
    "        ffn_output = self.ffn(x)\n",
    "        x = x + self.dropout(ffn_output)\n",
    "        x = self.norm2(x)\n",
    "\n",
    "        return x\n",
    "\n"
   ]
  },
  {
   "cell_type": "code",
   "execution_count": 44,
   "metadata": {},
   "outputs": [],
   "source": [
    "class TransformerScheduler(nn.Module):\n",
    "    def __init__(self, robot_input_dimensions, task_input_dimension, embed_dim, ff_dim, num_layers, dropout = 0.0):\n",
    "        \n",
    "        super(TransformerScheduler, self).__init__()\n",
    "        self.robot_embedding = nn.Linear(robot_input_dimensions, embed_dim)\n",
    "        self.task_embedding = nn.Linear(task_input_dimension, embed_dim)\n",
    "\n",
    "        self.transformer_blocks = nn.ModuleList([\n",
    "            SingleHeadTransformerBlock(embed_dim, ff_dim, dropout) for _ in range(num_layers)\n",
    "        ])\n",
    "\n",
    "    def forward(self, robot_features, task_features):\n",
    "        robot_embeddings = self.robot_embedding(robot_features)\n",
    "        task_embeddings = self.task_embedding(task_features)\n",
    "\n",
    "        x = torch.cat([robot_embeddings, task_embeddings], dim=1)\n",
    "\n",
    "        for transformer in self.transformer_blocks:\n",
    "            x = transformer(x)\n",
    "\n",
    "        n_robots = robot_features.shape[1] \n",
    "\n",
    "        features_per_robot = x[:, :n_robots]\n",
    "        features_per_task = x[:, n_robots:]\n",
    "        reward_matrix = torch.matmul(features_per_robot, features_per_task.transpose(1,2))\n",
    "        \n",
    "        return reward_matrix "
   ]
  },
  {
   "cell_type": "code",
   "execution_count": 45,
   "metadata": {},
   "outputs": [],
   "source": [
    "class Robot:\n",
    "    def __init__(self, capabilities):\n",
    "        self.capability = np.array(capabilities)  # Convert capabilities to numpy array\n",
    "        self.available = 1  # 0 if not available, 1 if available\n",
    "\n",
    "    def feature_vector(self):\n",
    "        return np.concatenate([self.capability, np.array([self.available])])\n",
    "\n",
    "\n",
    "class Task:\n",
    "    def __init__(self, skills_required):\n",
    "        self.skills_required = np.array(skills_required)  # Convert skills to numpy array\n",
    "        self.in_progress = 0  # 0 if not in progress, 1 if in progress, 2 if completed\n",
    "\n",
    "    def feature_vector(self):\n",
    "        return np.concatenate([self.skills_required, np.array([self.in_progress])])"
   ]
  },
  {
   "cell_type": "code",
   "execution_count": 46,
   "metadata": {},
   "outputs": [],
   "source": [
    "n_robots = 2\n",
    "n_tasks = 3\n",
    "n_skills = 2 \n"
   ]
  },
  {
   "cell_type": "code",
   "execution_count": 47,
   "metadata": {},
   "outputs": [
    {
     "name": "stdout",
     "output_type": "stream",
     "text": [
      "tensor([[[1., 0., 1.],\n",
      "         [0., 1., 1.]]])\n",
      "tensor([[[1., 0., 0.],\n",
      "         [0., 1., 0.],\n",
      "         [1., 1., 0.]]])\n"
     ]
    }
   ],
   "source": [
    "robots = [Robot([1, 0]), Robot([0, 1])]\n",
    "tasks = [Task([1, 0]), Task([0, 1]), Task([1, 1])]\n",
    "\n",
    "robot_features = np.stack([robot.feature_vector() for robot in robots])\n",
    "robot_features = torch.tensor(robot_features).unsqueeze(0).float()\n",
    "\n",
    "task_features = np.stack([task.feature_vector() for task in tasks])\n",
    "task_features = torch.tensor(task_features).unsqueeze(0).float()\n",
    "\n",
    "\n",
    "print(robot_features)\n",
    "print(task_features)"
   ]
  },
  {
   "cell_type": "code",
   "execution_count": 48,
   "metadata": {},
   "outputs": [],
   "source": [
    "# Example input\n",
    "batch_size = 1 \n",
    "seq_len = n_robots + n_tasks\n",
    "\n",
    "scheduling_network = TransformerScheduler(robot_input_dimensions=3, task_input_dimension=3, embed_dim=32, ff_dim=64, num_layers=2)"
   ]
  },
  {
   "cell_type": "code",
   "execution_count": 49,
   "metadata": {},
   "outputs": [],
   "source": [
    "reward_matrix = scheduling_network(robot_features, task_features)"
   ]
  },
  {
   "cell_type": "code",
   "execution_count": 50,
   "metadata": {},
   "outputs": [
    {
     "data": {
      "text/plain": [
       "tensor([[[ 6.2353,  4.2251,  7.3866],\n",
       "         [-7.8907,  1.1589, -3.5841]]], grad_fn=<UnsafeViewBackward0>)"
      ]
     },
     "execution_count": 50,
     "metadata": {},
     "output_type": "execute_result"
    }
   ],
   "source": [
    "reward_matrix"
   ]
  },
  {
   "cell_type": "code",
   "execution_count": null,
   "metadata": {},
   "outputs": [],
   "source": []
  }
 ],
 "metadata": {
  "kernelspec": {
   "display_name": ".venv",
   "language": "python",
   "name": "python3"
  },
  "language_info": {
   "codemirror_mode": {
    "name": "ipython",
    "version": 3
   },
   "file_extension": ".py",
   "mimetype": "text/x-python",
   "name": "python",
   "nbconvert_exporter": "python",
   "pygments_lexer": "ipython3",
   "version": "3.11.10"
  }
 },
 "nbformat": 4,
 "nbformat_minor": 2
}
